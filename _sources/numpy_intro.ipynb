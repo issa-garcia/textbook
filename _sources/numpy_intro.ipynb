{
 "cells": [
  {
   "cell_type": "markdown",
   "id": "55473cec",
   "metadata": {},
   "source": [
    "# Introduction to Numpy"
   ]
  },
  {
   "cell_type": "code",
   "execution_count": 1,
   "id": "65e4979a",
   "metadata": {},
   "outputs": [],
   "source": [
    "import numpy"
   ]
  },
  {
   "cell_type": "code",
   "execution_count": 2,
   "id": "fd9ccbeb",
   "metadata": {},
   "outputs": [],
   "source": [
    "import numpy as np"
   ]
  },
  {
   "cell_type": "code",
   "execution_count": 4,
   "id": "89edd120",
   "metadata": {},
   "outputs": [
    {
     "data": {
      "text/plain": [
       "list"
      ]
     },
     "execution_count": 4,
     "metadata": {},
     "output_type": "execute_result"
    }
   ],
   "source": [
    "rts = [10, 20, 30]\n",
    "rts"
   ]
  },
  {
   "cell_type": "code",
   "execution_count": 5,
   "id": "3d299944",
   "metadata": {},
   "outputs": [
    {
     "data": {
      "text/plain": [
       "list"
      ]
     },
     "execution_count": 5,
     "metadata": {},
     "output_type": "execute_result"
    }
   ],
   "source": [
    "type(rts)"
   ]
  },
  {
   "cell_type": "code",
   "execution_count": 6,
   "id": "5e52a270",
   "metadata": {},
   "outputs": [
    {
     "data": {
      "text/plain": [
       "array([10, 20, 30])"
      ]
     },
     "execution_count": 6,
     "metadata": {},
     "output_type": "execute_result"
    }
   ],
   "source": [
    "rts_arr = np.array(rts)\n",
    "rts_arr"
   ]
  },
  {
   "cell_type": "code",
   "execution_count": 7,
   "id": "bf192702",
   "metadata": {},
   "outputs": [
    {
     "data": {
      "text/plain": [
       "array([10, 20, 30])"
      ]
     },
     "execution_count": 7,
     "metadata": {},
     "output_type": "execute_result"
    }
   ],
   "source": [
    "rts_arr = np.array([10, 20, 30])\n",
    "rts_arr"
   ]
  },
  {
   "cell_type": "markdown",
   "id": "dc6016b9",
   "metadata": {},
   "source": [
    "## Making Numpy arrays"
   ]
  },
  {
   "cell_type": "code",
   "execution_count": null,
   "id": "94a87422",
   "metadata": {},
   "outputs": [],
   "source": []
  },
  {
   "cell_type": "markdown",
   "id": "3fb144ba",
   "metadata": {},
   "source": [
    "## Calculations with Numpy arrays"
   ]
  },
  {
   "cell_type": "code",
   "execution_count": 10,
   "id": "5c79e0b7",
   "metadata": {},
   "outputs": [
    {
     "data": {
      "text/plain": [
       "['response,response_time,trial_ISI,trial_shape\\n',\n",
       " 'None,0,2000,red_star\\n',\n",
       " 'None,0,1000,red_circle\\n',\n",
       " 'None,0,2500,green_triangle\\n',\n",
       " 'None,0,1500,yellow_square\\n']"
      ]
     },
     "execution_count": 10,
     "metadata": {},
     "output_type": "execute_result"
    }
   ],
   "source": [
    "lines = open('24719.f3_beh_CHYM.csv').readlines()\n",
    "lines[:5]"
   ]
  },
  {
   "cell_type": "code",
   "execution_count": 12,
   "id": "f9a60741",
   "metadata": {},
   "outputs": [
    {
     "data": {
      "text/plain": [
       "['None,0,1000,red_circle\\n',\n",
       " 'None,0,2500,green_triangle\\n',\n",
       " 'None,0,1500,yellow_square\\n',\n",
       " 'None,0,1500,blue_circle\\n',\n",
       " 'None,0,2000,green_star\\n']"
      ]
     },
     "execution_count": 12,
     "metadata": {},
     "output_type": "execute_result"
    }
   ],
   "source": [
    "del lines[0]\n",
    "lines[:5]"
   ]
  },
  {
   "cell_type": "code",
   "execution_count": 13,
   "id": "4129e319",
   "metadata": {},
   "outputs": [
    {
     "data": {
      "text/plain": [
       "319"
      ]
     },
     "execution_count": 13,
     "metadata": {},
     "output_type": "execute_result"
    }
   ],
   "source": [
    "n_lines = len(lines)\n",
    "n_lines"
   ]
  },
  {
   "cell_type": "code",
   "execution_count": 14,
   "id": "7672ea7f",
   "metadata": {},
   "outputs": [
    {
     "data": {
      "text/plain": [
       "'None,0,1000,red_circle\\n'"
      ]
     },
     "execution_count": 14,
     "metadata": {},
     "output_type": "execute_result"
    }
   ],
   "source": [
    "lines[0]"
   ]
  },
  {
   "cell_type": "code",
   "execution_count": 16,
   "id": "fd9266ba",
   "metadata": {},
   "outputs": [
    {
     "data": {
      "text/plain": [
       "['None', '0', '1000', 'red_circle\\n']"
      ]
     },
     "execution_count": 16,
     "metadata": {},
     "output_type": "execute_result"
    }
   ],
   "source": [
    "parts = lines[0].split(',')\n",
    "parts"
   ]
  },
  {
   "cell_type": "code",
   "execution_count": 18,
   "id": "95fb677b",
   "metadata": {},
   "outputs": [
    {
     "data": {
      "text/plain": [
       "[1000.0, 2500.0, 1500.0, 1500.0, 2000.0]"
      ]
     },
     "execution_count": 18,
     "metadata": {},
     "output_type": "execute_result"
    }
   ],
   "source": [
    "response_times = []\n",
    "trial_isis = []\n",
    "for i in range(n_lines):\n",
    "    line = lines[i]\n",
    "    parts = line.split(',')\n",
    "    response_times.append(float(parts[1]))\n",
    "    trial_isis.append(float(parts[2]))\n",
    "trial_isis[:5]"
   ]
  },
  {
   "cell_type": "code",
   "execution_count": 19,
   "id": "5b3f7066",
   "metadata": {},
   "outputs": [
    {
     "data": {
      "text/plain": [
       "array([  0.,   0.,   0.,   0.,   0.,   0.,   0.,   0.,   0., 427.,   0.,\n",
       "         0., 369.,   0., 337.,   0., 308.,   0.,   0.,   0.,   0.,   0.,\n",
       "       375., 478., 300.,   0.,   0.,   0., 321.,   0., 306.,   0.,   0.,\n",
       "         0.,   0.,   0.,   0., 370.,   0.,   0.,   0.,   0., 372., 372.,\n",
       "       342.,   0.,   0., 382.,   0.,   0., 318.,   0.,   0.,   0.,   0.,\n",
       "       371.,   0., 450.,   0.,   0., 442.,   0.,   0.,   0.,   0.,   0.,\n",
       "         0.,   0.,   0., 452., 381.,   0.,   0.,   0.,   0.,   0.,   0.,\n",
       "         0., 351.,   0.,   0.,   0., 394.,   0., 353.,   0.,   0.,   0.,\n",
       "         0.,   0., 380.,   0., 387., 341., 366., 432., 415.,   0., 406.,\n",
       "         0.,   0.,   0.,   0.,   0.,   0.,   0.,   0.,   0.,   0.,   0.,\n",
       "         0.,   0.,   0.,   0.,   0.,   0.,   0., 466.,   0.,   0., 364.,\n",
       "       462., 477.,   0.,   0.,   0.,   0., 374., 384.,   0.,   0.,   0.,\n",
       "       375.,   0.,   0.,   0.,   0.,   0., 432.,   0.,   0.,   0.,   0.,\n",
       "         0.,   0.,   0.,   0., 369.,   0.,   0.,   0., 354.,   0., 455.,\n",
       "         0.,   0., 338.,   0.,   0., 364.,   0.,   0., 376., 345., 299.,\n",
       "       308., 381.,   0., 375., 438., 325.,   0.,   0.,   0., 371., 377.,\n",
       "       314.,   0., 297.,   0.,   0.,   0.,   0., 349.,   0., 607., 391.,\n",
       "       334.,   0., 385.,   0.,   0.,   0., 386., 369.,   0.,   0., 394.,\n",
       "         0.,   0., 361., 480.,   0.,   0.,   0., 375.,   0., 368.,   0.,\n",
       "       325.,   0.,   0.,   0.,   0., 410., 328.,   0.,   0.,   0.,   0.,\n",
       "         0.,   0.,   0., 412.,   0., 379.,   0.,   0.,   0., 383., 376.,\n",
       "       351.,   0.,   0.,   0., 361.,   0., 403., 411.,   0.,   0.,   0.,\n",
       "         0.,   0.,   0., 447.,   0., 590.,   0., 328.,   0., 376., 410.,\n",
       "         0., 433., 370., 353.,   0.,   0.,   0.,   0.,   0.,   0., 353.,\n",
       "         0., 386., 417., 315.,   0., 298.,   0.,   0.,   0., 370.,   0.,\n",
       "         0.,   0.,   0., 365.,   0.,   0., 439., 391.,   0.,   0.,   0.,\n",
       "         0.,   0.,   0.,   0.,   0.,   0.,   0.,   0., 351.,   0.,   0.,\n",
       "         0.,   0.,   0., 464.,   0.,   0.,   0.,   0.,   0., 357.,   0.,\n",
       "         0.,   0.,   0.,   0.,   0., 328., 294.,   0.,   0., 471.,   0.])"
      ]
     },
     "execution_count": 19,
     "metadata": {},
     "output_type": "execute_result"
    }
   ],
   "source": [
    "rt_arr = np.array(response_times)\n",
    "rt_arr"
   ]
  },
  {
   "cell_type": "code",
   "execution_count": 20,
   "id": "61ffc4ba",
   "metadata": {},
   "outputs": [
    {
     "data": {
      "text/plain": [
       "array([1000., 2500., 1500., 1500., 2000., 2500., 1500., 2000., 1000.,\n",
       "       1000., 1500., 1500., 2000., 1500., 1500., 1500., 2000., 2000.,\n",
       "       1500., 2500., 1000., 2500., 1000., 2500., 2000., 2000., 1000.,\n",
       "       1000., 1000., 1500., 1500., 1500., 1500., 1000., 1000., 2500.,\n",
       "       1000., 2000., 2000., 2500., 1500., 1500., 1000., 2500., 2000.,\n",
       "       1000., 1500., 2000., 1500., 2000., 1000., 1000., 2500., 1500.,\n",
       "       2000., 1000., 1000., 1000., 1000., 2500., 2500., 2000., 2500.,\n",
       "       2500., 1500., 2000., 1500., 2000., 1000., 1500., 2500., 1000.,\n",
       "       1000., 2500., 2000., 2500., 2500., 2500., 1500., 1500., 1000.,\n",
       "       2500., 2500., 2500., 1500., 1000., 2500., 2000., 1500., 2000.,\n",
       "       2500., 1500., 1500., 2500., 2500., 2000., 2000., 1000., 1000.,\n",
       "       2000., 2500., 1000., 2000., 2000., 1000., 2000., 2000., 1500.,\n",
       "       1000., 1000., 1500., 1500., 2500., 2500., 2500., 1500., 2500.,\n",
       "       1500., 1000., 1500., 2500., 1000., 2000., 2500., 1000., 2000.,\n",
       "       2500., 1500., 2000., 1000., 1000., 2500., 1500., 2000., 1000.,\n",
       "       1000., 2500., 1000., 2500., 2500., 2500., 1000., 2000., 1000.,\n",
       "       1500., 2000., 1500., 1500., 1500., 1000., 1000., 1500., 1000.,\n",
       "       2500., 2000., 2500., 1500., 2000., 2500., 1000., 1000., 2500.,\n",
       "       1500., 1500., 1500., 2500., 1000., 2500., 2000., 2000., 1000.,\n",
       "       2000., 2000., 2000., 2500., 1500., 2000., 2000., 2000., 1000.,\n",
       "       2000., 2000., 1500., 1000., 1000., 2000., 2000., 1500., 1500.,\n",
       "       1000., 2000., 1500., 1500., 1000., 2000., 1500., 1000., 1500.,\n",
       "       2500., 2000., 1000., 2000., 2000., 2000., 1500., 1000., 1500.,\n",
       "       1500., 1000., 2000., 1000., 1500., 2500., 2000., 2500., 2500.,\n",
       "       1500., 1000., 2500., 2500., 1000., 2500., 2500., 2000., 2000.,\n",
       "       1000., 2500., 2500., 1500., 2500., 2000., 2500., 2000., 2500.,\n",
       "       1000., 1000., 1500., 2500., 1500., 2500., 2500., 1500., 1000.,\n",
       "       2500., 1500., 2000., 1000., 2000., 2500., 2000., 1500., 2500.,\n",
       "       2500., 1500., 1500., 1000., 1500., 1500., 1500., 1000., 2500.,\n",
       "       1500., 2500., 2000., 2500., 1000., 2500., 2000., 2000., 2000.,\n",
       "       2500., 2000., 1000., 1500., 1000., 2000., 2500., 2500., 1000.,\n",
       "       1500., 1500., 2000., 2500., 1500., 2000., 1500., 1500., 2500.,\n",
       "       2500., 1000., 2500., 2000., 1500., 2000., 2500., 2000., 2000.,\n",
       "       1500., 1000., 1000., 2500., 2000., 2000., 2000., 1500., 2000.,\n",
       "       1000., 1000., 2000., 1000., 1500., 1500., 2500., 2000., 1000.,\n",
       "       2500., 1000., 1000., 1000.])"
      ]
     },
     "execution_count": 20,
     "metadata": {},
     "output_type": "execute_result"
    }
   ],
   "source": [
    "isi_arr = np.array(trial_isis)\n",
    "isi_arr"
   ]
  },
  {
   "cell_type": "markdown",
   "id": "60292a3e",
   "metadata": {},
   "source": [
    "Another way:"
   ]
  },
  {
   "cell_type": "code",
   "execution_count": 21,
   "id": "30404128",
   "metadata": {},
   "outputs": [
    {
     "data": {
      "text/plain": [
       "array([0., 0., 0., 0., 0., 0., 0., 0., 0., 0., 0., 0., 0., 0., 0., 0., 0.,\n",
       "       0., 0., 0., 0., 0., 0., 0., 0., 0., 0., 0., 0., 0., 0., 0., 0., 0.,\n",
       "       0., 0., 0., 0., 0., 0., 0., 0., 0., 0., 0., 0., 0., 0., 0., 0., 0.,\n",
       "       0., 0., 0., 0., 0., 0., 0., 0., 0., 0., 0., 0., 0., 0., 0., 0., 0.,\n",
       "       0., 0., 0., 0., 0., 0., 0., 0., 0., 0., 0., 0., 0., 0., 0., 0., 0.,\n",
       "       0., 0., 0., 0., 0., 0., 0., 0., 0., 0., 0., 0., 0., 0., 0., 0., 0.,\n",
       "       0., 0., 0., 0., 0., 0., 0., 0., 0., 0., 0., 0., 0., 0., 0., 0., 0.,\n",
       "       0., 0., 0., 0., 0., 0., 0., 0., 0., 0., 0., 0., 0., 0., 0., 0., 0.,\n",
       "       0., 0., 0., 0., 0., 0., 0., 0., 0., 0., 0., 0., 0., 0., 0., 0., 0.,\n",
       "       0., 0., 0., 0., 0., 0., 0., 0., 0., 0., 0., 0., 0., 0., 0., 0., 0.,\n",
       "       0., 0., 0., 0., 0., 0., 0., 0., 0., 0., 0., 0., 0., 0., 0., 0., 0.,\n",
       "       0., 0., 0., 0., 0., 0., 0., 0., 0., 0., 0., 0., 0., 0., 0., 0., 0.,\n",
       "       0., 0., 0., 0., 0., 0., 0., 0., 0., 0., 0., 0., 0., 0., 0., 0., 0.,\n",
       "       0., 0., 0., 0., 0., 0., 0., 0., 0., 0., 0., 0., 0., 0., 0., 0., 0.,\n",
       "       0., 0., 0., 0., 0., 0., 0., 0., 0., 0., 0., 0., 0., 0., 0., 0., 0.,\n",
       "       0., 0., 0., 0., 0., 0., 0., 0., 0., 0., 0., 0., 0., 0., 0., 0., 0.,\n",
       "       0., 0., 0., 0., 0., 0., 0., 0., 0., 0., 0., 0., 0., 0., 0., 0., 0.,\n",
       "       0., 0., 0., 0., 0., 0., 0., 0., 0., 0., 0., 0., 0., 0., 0., 0., 0.,\n",
       "       0., 0., 0., 0., 0., 0., 0., 0., 0., 0., 0., 0., 0.])"
      ]
     },
     "execution_count": 21,
     "metadata": {},
     "output_type": "execute_result"
    }
   ],
   "source": [
    "response_times = np.zeros(n_lines)\n",
    "response_times"
   ]
  },
  {
   "cell_type": "code",
   "execution_count": 22,
   "id": "ee481142",
   "metadata": {},
   "outputs": [
    {
     "data": {
      "text/plain": [
       "array([1000., 2500., 1500., 1500., 2000.])"
      ]
     },
     "execution_count": 22,
     "metadata": {},
     "output_type": "execute_result"
    }
   ],
   "source": [
    "rt_arr = np.zeros(n_lines)\n",
    "isi_arr = np.zeros(n_lines)\n",
    "for i in range(n_lines):\n",
    "    line = lines[i]\n",
    "    parts = line.split(',')\n",
    "    rt_arr[i] = float(parts[1])\n",
    "    isi_arr[i] = float(parts[2])\n",
    "isi_arr[:5]"
   ]
  },
  {
   "cell_type": "markdown",
   "id": "555dfdfb",
   "metadata": {},
   "source": [
    "The inter-stimulus interval is the interval between the previous trial and the current one.\n",
    "\n",
    "For example, the first ISI here, 1000, means that the first trial started at 1000ms from the start of the experiment.\n",
    "\n",
    "The second ISI, 2500, means that the second trial started at 1000ms + 2500ms from the start of the experiment.\n",
    "\n",
    "We want to work out how these stimulus times relate to the scanning we did.\n",
    "\n",
    "Let's think first about the trial onset times, in terms of scans.\n",
    "\n",
    "The first thing we need to know is that the experimental software started 4 seconds after the first scan.\n",
    "\n",
    "We know from the first ISI above that the first trial happened 1000ms after the experimental software started.   That means that it happened 4 * 1000 + 1000 milliseconds after the scanner started.\n",
    "\n",
    "The second then we need to know is that the TR (time-to-repeat) for the scanner was 2 seconds.  So, the first scan happens at time 0, the second at time 2000ms, and so on."
   ]
  },
  {
   "cell_type": "markdown",
   "id": "82e7124e",
   "metadata": {},
   "source": [
    "Let's proceed in steps.  First let us work out the time for each trial *from the start of the experimental software*.  We could do it like this:"
   ]
  },
  {
   "cell_type": "code",
   "execution_count": 24,
   "id": "1a4f9161",
   "metadata": {},
   "outputs": [
    {
     "data": {
      "text/plain": [
       "array([ 1000.,  2000.,  3000.,  4000.,  5000.,  6000.,  7000.,  8000.,\n",
       "        9000., 10000.])"
      ]
     },
     "execution_count": 24,
     "metadata": {},
     "output_type": "execute_result"
    }
   ],
   "source": [
    "cumulative_times = np.zeros(n_lines)\n",
    "start_time = 0\n",
    "for i in range(0, n_lines):\n",
    "    start_time = start_time + isi_arr[i]\n",
    "    cumulative_times[i] = start_time\n",
    "cumulative_times[:10]"
   ]
  },
  {
   "cell_type": "markdown",
   "id": "36ab1bd8",
   "metadata": {},
   "source": [
    "## 2D arrays"
   ]
  },
  {
   "cell_type": "code",
   "execution_count": null,
   "id": "06afd1bf",
   "metadata": {},
   "outputs": [],
   "source": []
  },
  {
   "cell_type": "markdown",
   "id": "984b1f3a",
   "metadata": {},
   "source": [
    "## Reshaping"
   ]
  },
  {
   "cell_type": "code",
   "execution_count": null,
   "id": "7da0c395",
   "metadata": {},
   "outputs": [],
   "source": []
  }
 ],
 "metadata": {
  "jupytext": {
   "notebook_metadata_filter": "all,-language_info",
   "split_at_heading": true
  },
  "kernelspec": {
   "display_name": "Python 3",
   "language": "python",
   "name": "python3"
  },
  "language_info": {
   "codemirror_mode": {
    "name": "ipython",
    "version": 3
   },
   "file_extension": ".py",
   "mimetype": "text/x-python",
   "name": "python",
   "nbconvert_exporter": "python",
   "pygments_lexer": "ipython3",
   "version": "3.8.13"
  }
 },
 "nbformat": 4,
 "nbformat_minor": 5
}
