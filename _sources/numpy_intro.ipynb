{
 "cells": [
  {
   "cell_type": "markdown",
   "id": "0ad93927",
   "metadata": {},
   "source": [
    "# Introduction to Numpy\n",
    "\n",
    "Numpy is the fundamental package for creating and manipulating *arrays* in\n",
    "Python.\n",
    "\n",
    "As for all Python libraries, we need to load the library into Python, in order to use it.  We use the `import` statement to do that:"
   ]
  },
  {
   "cell_type": "code",
   "execution_count": 1,
   "id": "3c726b84",
   "metadata": {},
   "outputs": [],
   "source": [
    "import numpy"
   ]
  },
  {
   "cell_type": "markdown",
   "id": "613d2ef9",
   "metadata": {},
   "source": [
    "`numpy` is now a *module* available for use.  A module is Python's term for a library of code and / or data."
   ]
  },
  {
   "cell_type": "code",
   "execution_count": 2,
   "id": "738f4e25",
   "metadata": {},
   "outputs": [
    {
     "data": {
      "text/plain": [
       "<module 'numpy' from '/Users/mb312/Library/Python/3.8/lib/python/site-packages/numpy/__init__.py'>"
      ]
     },
     "execution_count": 2,
     "metadata": {},
     "output_type": "execute_result"
    }
   ],
   "source": [
    "# Show what 'numpy' is\n",
    "numpy"
   ]
  },
  {
   "cell_type": "markdown",
   "id": "705fa53a",
   "metadata": {},
   "source": [
    "Numpy is now ready to use, and has the name `numpy`.  For example, if we want to see the value of pi, according to Numpy, we could run this code:"
   ]
  },
  {
   "cell_type": "code",
   "execution_count": 3,
   "id": "5b4cc8a7",
   "metadata": {},
   "outputs": [
    {
     "data": {
      "text/plain": [
       "3.141592653589793"
      ]
     },
     "execution_count": 3,
     "metadata": {},
     "output_type": "execute_result"
    }
   ],
   "source": [
    "numpy.pi"
   ]
  },
  {
   "cell_type": "markdown",
   "id": "fcc5d599",
   "metadata": {},
   "source": [
    "Although it is perfectly reasonable to import Numpy with the simplest statement above, in practice, nearly everyone imports Numpy like this:"
   ]
  },
  {
   "cell_type": "code",
   "execution_count": 4,
   "id": "6c841d5f",
   "metadata": {},
   "outputs": [],
   "source": [
    "# Make numpy available, but give it the name \"np\".\n",
    "import numpy as np"
   ]
  },
  {
   "cell_type": "markdown",
   "id": "92252527",
   "metadata": {},
   "source": [
    "All this is, is a version of the `import` statement where we *rename* the `numpy` module to `np`.\n",
    "\n",
    "Now, instead of using the longer `numpy` as the name for the module, we can use `np`."
   ]
  },
  {
   "cell_type": "code",
   "execution_count": 5,
   "id": "e4baa86a",
   "metadata": {},
   "outputs": [
    {
     "data": {
      "text/plain": [
       "<module 'numpy' from '/Users/mb312/Library/Python/3.8/lib/python/site-packages/numpy/__init__.py'>"
      ]
     },
     "execution_count": 5,
     "metadata": {},
     "output_type": "execute_result"
    }
   ],
   "source": [
    "# Show what 'np' is\n",
    "np"
   ]
  },
  {
   "cell_type": "code",
   "execution_count": 6,
   "id": "694d162a",
   "metadata": {},
   "outputs": [
    {
     "data": {
      "text/plain": [
       "3.141592653589793"
      ]
     },
     "execution_count": 6,
     "metadata": {},
     "output_type": "execute_result"
    }
   ],
   "source": [
    "np.pi"
   ]
  },
  {
   "cell_type": "markdown",
   "id": "ac45feb2",
   "metadata": {},
   "source": [
    "You will see that we nearly always use that `import numpy as np` form, and you\n",
    "will also see that almost everyone else in the Python world does the same\n",
    "thing.  It's near-universal convention.  That way, everyone knows you mean\n",
    "`numpy` when you use `np`."
   ]
  },
  {
   "cell_type": "markdown",
   "id": "b0b9048f",
   "metadata": {},
   "source": [
    "## Some example data\n",
    "\n",
    "Let's start with some data, and then go on to process these data with arrays.\n",
    "\n",
    "Here is a text file with some data about an experiment running in the scanner.\n",
    "The subject saw stimuli every 1.75 seconds or so.  Sometimes they press a\n",
    "spacebar in response to the stimulus. The file records the subject's data.  There is one row per trial, where each row records:\n",
    "\n",
    "* `response` — what response the subject make for this trial ('None' or\n",
    "  'spacebar')\n",
    "* `response_time` — the reaction time for their response (milliseconds after\n",
    "  the stimulus, 0 if no response)\n",
    "* `trial_ISI` — the time to wait until the *next* stimulus (the Interstimulus\n",
    "  Interval)\n",
    "* `trial_shape` — the name of the stimulus ('red_star', 'red_circle' and so\n",
    "  on).\n",
    "\n",
    "Here we open the file as text, and load the lines of the file into memory as a list."
   ]
  },
  {
   "cell_type": "code",
   "execution_count": 7,
   "id": "bdbd82e6",
   "metadata": {},
   "outputs": [
    {
     "data": {
      "text/plain": [
       "['response,response_time,trial_ISI,trial_shape\\n',\n",
       " 'None,0,2000,red_star\\n',\n",
       " 'None,0,1000,red_circle\\n',\n",
       " 'None,0,2500,green_triangle\\n',\n",
       " 'None,0,1500,yellow_square\\n']"
      ]
     },
     "execution_count": 7,
     "metadata": {},
     "output_type": "execute_result"
    }
   ],
   "source": [
    "# Load the lines in the file as a list.\n",
    "lines = open('24719.f3_beh_CHYM.csv', 'rt').readlines()\n",
    "# Show the first 5 lines.\n",
    "lines[:5]"
   ]
  },
  {
   "cell_type": "markdown",
   "id": "efaf597a",
   "metadata": {},
   "source": [
    "As you can see, the first line in the file gives the names of the fields in each row.  We will throw away that line to start."
   ]
  },
  {
   "cell_type": "code",
   "execution_count": 8,
   "id": "5a875462",
   "metadata": {},
   "outputs": [
    {
     "data": {
      "text/plain": [
       "['None,0,2000,red_star\\n',\n",
       " 'None,0,1000,red_circle\\n',\n",
       " 'None,0,2500,green_triangle\\n',\n",
       " 'None,0,1500,yellow_square\\n',\n",
       " 'None,0,1500,blue_circle\\n']"
      ]
     },
     "execution_count": 8,
     "metadata": {},
     "output_type": "execute_result"
    }
   ],
   "source": [
    "del lines[0]\n",
    "lines[:5]"
   ]
  },
  {
   "cell_type": "markdown",
   "id": "418d4ca2",
   "metadata": {},
   "source": [
    "There is one line for each trial, so the number of lines in the file is also the number of trials."
   ]
  },
  {
   "cell_type": "code",
   "execution_count": 9,
   "id": "489b9969",
   "metadata": {},
   "outputs": [
    {
     "data": {
      "text/plain": [
       "320"
      ]
     },
     "execution_count": 9,
     "metadata": {},
     "output_type": "execute_result"
    }
   ],
   "source": [
    "n_trials = len(lines)\n",
    "n_trials"
   ]
  },
  {
   "cell_type": "markdown",
   "id": "7b276e71",
   "metadata": {},
   "source": [
    "Let's look at the first line again:"
   ]
  },
  {
   "cell_type": "code",
   "execution_count": 10,
   "id": "01edf043",
   "metadata": {},
   "outputs": [
    {
     "data": {
      "text/plain": [
       "str"
      ]
     },
     "execution_count": 10,
     "metadata": {},
     "output_type": "execute_result"
    }
   ],
   "source": [
    "type(lines[0])"
   ]
  },
  {
   "cell_type": "code",
   "execution_count": 11,
   "id": "2cdc756c",
   "metadata": {},
   "outputs": [
    {
     "data": {
      "text/plain": [
       "'None,0,2000,red_star\\n'"
      ]
     },
     "execution_count": 11,
     "metadata": {},
     "output_type": "execute_result"
    }
   ],
   "source": [
    "lines[0]"
   ]
  },
  {
   "cell_type": "markdown",
   "id": "7dfb8764",
   "metadata": {},
   "source": [
    "We can use the `split` *method* of the string to split the string at the commas (`,`).  This gives us a list of strings:"
   ]
  },
  {
   "cell_type": "code",
   "execution_count": 12,
   "id": "1b17102d",
   "metadata": {},
   "outputs": [
    {
     "data": {
      "text/plain": [
       "['None', '0', '2000', 'red_star\\n']"
      ]
     },
     "execution_count": 12,
     "metadata": {},
     "output_type": "execute_result"
    }
   ],
   "source": [
    "parts = lines[0].split(',')\n",
    "parts"
   ]
  },
  {
   "cell_type": "markdown",
   "id": "073cb292",
   "metadata": {},
   "source": [
    "This in turn suggests how we could use `for` loop to collect the response times and the trial ISIs into lists, with one element per trial."
   ]
  },
  {
   "cell_type": "code",
   "execution_count": 13,
   "id": "26da551f",
   "metadata": {},
   "outputs": [
    {
     "data": {
      "text/plain": [
       "[2000.0, 1000.0, 2500.0, 1500.0, 1500.0]"
      ]
     },
     "execution_count": 13,
     "metadata": {},
     "output_type": "execute_result"
    }
   ],
   "source": [
    "rt_list = []  # List to hold the response times.\n",
    "isi_list = []  # List to hold the trial_isis\n",
    "# For each number from 0 up to (not including) the value of n_trials.\n",
    "for i in range(n_trials):\n",
    "    line = lines[i]  # Get the corresponding line for trial position i\n",
    "    parts = line.split(',')  # Split at commas\n",
    "    rt_list.append(float(parts[1]))  # Second thing is response time\n",
    "    isi_list.append(float(parts[2]))  # Third thing is trialISI\n",
    "# Show the first 5 trial ISIs.\n",
    "isi_list[:5]"
   ]
  },
  {
   "cell_type": "markdown",
   "id": "d725c4ae",
   "metadata": {},
   "source": [
    "## From lists to arrays\n",
    "\n",
    "Lists are useful, but we very often need arrays to help us process the data.\n",
    "\n",
    "We hope you will see why by example.\n",
    "\n",
    "You can make an array from a list by using the `np.array` function."
   ]
  },
  {
   "cell_type": "code",
   "execution_count": 14,
   "id": "8b46466e",
   "metadata": {},
   "outputs": [
    {
     "data": {
      "text/plain": [
       "array([2000., 1000., 2500., 1500., 1500., 2000., 2500., 1500., 2000.,\n",
       "       1000., 1000., 1500., 1500., 2000., 1500., 1500., 1500., 2000.,\n",
       "       2000., 1500., 2500., 1000., 2500., 1000., 2500., 2000., 2000.,\n",
       "       1000., 1000., 1000., 1500., 1500., 1500., 1500., 1000., 1000.,\n",
       "       2500., 1000., 2000., 2000., 2500., 1500., 1500., 1000., 2500.,\n",
       "       2000., 1000., 1500., 2000., 1500., 2000., 1000., 1000., 2500.,\n",
       "       1500., 2000., 1000., 1000., 1000., 1000., 2500., 2500., 2000.,\n",
       "       2500., 2500., 1500., 2000., 1500., 2000., 1000., 1500., 2500.,\n",
       "       1000., 1000., 2500., 2000., 2500., 2500., 2500., 1500., 1500.,\n",
       "       1000., 2500., 2500., 2500., 1500., 1000., 2500., 2000., 1500.,\n",
       "       2000., 2500., 1500., 1500., 2500., 2500., 2000., 2000., 1000.,\n",
       "       1000., 2000., 2500., 1000., 2000., 2000., 1000., 2000., 2000.,\n",
       "       1500., 1000., 1000., 1500., 1500., 2500., 2500., 2500., 1500.,\n",
       "       2500., 1500., 1000., 1500., 2500., 1000., 2000., 2500., 1000.,\n",
       "       2000., 2500., 1500., 2000., 1000., 1000., 2500., 1500., 2000.,\n",
       "       1000., 1000., 2500., 1000., 2500., 2500., 2500., 1000., 2000.,\n",
       "       1000., 1500., 2000., 1500., 1500., 1500., 1000., 1000., 1500.,\n",
       "       1000., 2500., 2000., 2500., 1500., 2000., 2500., 1000., 1000.,\n",
       "       2500., 1500., 1500., 1500., 2500., 1000., 2500., 2000., 2000.,\n",
       "       1000., 2000., 2000., 2000., 2500., 1500., 2000., 2000., 2000.,\n",
       "       1000., 2000., 2000., 1500., 1000., 1000., 2000., 2000., 1500.,\n",
       "       1500., 1000., 2000., 1500., 1500., 1000., 2000., 1500., 1000.,\n",
       "       1500., 2500., 2000., 1000., 2000., 2000., 2000., 1500., 1000.,\n",
       "       1500., 1500., 1000., 2000., 1000., 1500., 2500., 2000., 2500.,\n",
       "       2500., 1500., 1000., 2500., 2500., 1000., 2500., 2500., 2000.,\n",
       "       2000., 1000., 2500., 2500., 1500., 2500., 2000., 2500., 2000.,\n",
       "       2500., 1000., 1000., 1500., 2500., 1500., 2500., 2500., 1500.,\n",
       "       1000., 2500., 1500., 2000., 1000., 2000., 2500., 2000., 1500.,\n",
       "       2500., 2500., 1500., 1500., 1000., 1500., 1500., 1500., 1000.,\n",
       "       2500., 1500., 2500., 2000., 2500., 1000., 2500., 2000., 2000.,\n",
       "       2000., 2500., 2000., 1000., 1500., 1000., 2000., 2500., 2500.,\n",
       "       1000., 1500., 1500., 2000., 2500., 1500., 2000., 1500., 1500.,\n",
       "       2500., 2500., 1000., 2500., 2000., 1500., 2000., 2500., 2000.,\n",
       "       2000., 1500., 1000., 1000., 2500., 2000., 2000., 2000., 1500.,\n",
       "       2000., 1000., 1000., 2000., 1000., 1500., 1500., 2500., 2000.,\n",
       "       1000., 2500., 1000., 1000., 1000.])"
      ]
     },
     "execution_count": 14,
     "metadata": {},
     "output_type": "execute_result"
    }
   ],
   "source": [
    "isi_arr = np.array(isi_list)\n",
    "isi_arr"
   ]
  },
  {
   "cell_type": "markdown",
   "id": "65526262",
   "metadata": {},
   "source": [
    "Let us do the same for the reaction times:"
   ]
  },
  {
   "cell_type": "code",
   "execution_count": 15,
   "id": "59755850",
   "metadata": {},
   "outputs": [
    {
     "data": {
      "text/plain": [
       "[0.0, 0.0, 0.0, 0.0, 0.0, 0.0, 0.0, 0.0, 0.0, 0.0, 427.0, 0.0, 0.0, 369.0, 0.0]"
      ]
     },
     "execution_count": 15,
     "metadata": {},
     "output_type": "execute_result"
    }
   ],
   "source": [
    "rt_arr = np.array(rt_list)\n",
    "# Show the first 15 elements for brevity\n",
    "rt_list[:15]"
   ]
  },
  {
   "cell_type": "markdown",
   "id": "5bff7e90",
   "metadata": {},
   "source": [
    "## Arrays have a shape\n",
    "\n",
    "The array object has `shape` data attached to it:"
   ]
  },
  {
   "cell_type": "code",
   "execution_count": 16,
   "id": "307dc5e9",
   "metadata": {},
   "outputs": [
    {
     "data": {
      "text/plain": [
       "(320,)"
      ]
     },
     "execution_count": 16,
     "metadata": {},
     "output_type": "execute_result"
    }
   ],
   "source": [
    "isi_arr.shape"
   ]
  },
  {
   "cell_type": "markdown",
   "id": "e02dcd3a",
   "metadata": {},
   "source": [
    "The shape gives the number of dimensions, and the number of elements for each dimension.  We only have a one-dimensional array, so we see one number, which is the number of elements in the array.  We will get on to two-dimensional arrays later."
   ]
  },
  {
   "cell_type": "markdown",
   "id": "93850059",
   "metadata": {},
   "source": [
    "## Arrays have a datatype\n",
    "\n",
    "Notice that the `np.array` function worked out that all the values in the list\n",
    "are floating point values, so the array has a *datatype* (`dtype`) of\n",
    "`float64` — the standard type of floating point value for Numpy and most other\n",
    "numerical packages (such as Matlab and R).   The array `dtype` specifies what\n",
    "type of elements the array does and can contain."
   ]
  },
  {
   "cell_type": "code",
   "execution_count": 17,
   "id": "36c31243",
   "metadata": {},
   "outputs": [
    {
     "data": {
      "text/plain": [
       "dtype('float64')"
      ]
     },
     "execution_count": 17,
     "metadata": {},
     "output_type": "execute_result"
    }
   ],
   "source": [
    "isi_arr.dtype"
   ]
  },
  {
   "cell_type": "markdown",
   "id": "399e97f8",
   "metadata": {},
   "source": [
    "This means that, for example, you cannot put data into this array that can very simply make a floating point value:"
   ]
  },
  {
   "cell_type": "code",
   "execution_count": 18,
   "id": "403800be",
   "metadata": {
    "tags": [
     "raises-exception"
    ]
   },
   "outputs": [
    {
     "ename": "ValueError",
     "evalue": "could not convert string to float: 'some text'",
     "output_type": "error",
     "traceback": [
      "\u001b[0;31m---------------------------------------------------------------------------\u001b[0m",
      "\u001b[0;31mValueError\u001b[0m                                Traceback (most recent call last)",
      "Input \u001b[0;32mIn [18]\u001b[0m, in \u001b[0;36m<cell line: 1>\u001b[0;34m()\u001b[0m\n\u001b[0;32m----> 1\u001b[0m isi_arr[\u001b[38;5;241m0\u001b[39m] \u001b[38;5;241m=\u001b[39m \u001b[38;5;124m'\u001b[39m\u001b[38;5;124msome text\u001b[39m\u001b[38;5;124m'\u001b[39m\n",
      "\u001b[0;31mValueError\u001b[0m: could not convert string to float: 'some text'"
     ]
    }
   ],
   "source": [
    "isi_arr[0] = 'some text'"
   ]
  },
  {
   "cell_type": "markdown",
   "id": "ee38e3de",
   "metadata": {},
   "source": [
    "This is in contrast to a list, where the elements can be a mixture of any type of Python value."
   ]
  },
  {
   "cell_type": "code",
   "execution_count": 19,
   "id": "6beae372",
   "metadata": {},
   "outputs": [
    {
     "data": {
      "text/plain": [
       "[10.1, 'some_text', 0.5]"
      ]
     },
     "execution_count": 19,
     "metadata": {},
     "output_type": "execute_result"
    }
   ],
   "source": [
    "my_list = [10.1, 15.3, 0.5]\n",
    "my_list[1] = 'some_text'\n",
    "my_list"
   ]
  },
  {
   "cell_type": "markdown",
   "id": "a1db0f33",
   "metadata": {},
   "source": [
    "There is another way we could have collected the information from the file, and put it directly into arrays.\n",
    "\n",
    "We could have started with an array of the right length and type, by using the `np.zeros` function to make an array with all 0.0 values."
   ]
  },
  {
   "cell_type": "code",
   "execution_count": 20,
   "id": "cb0970ef",
   "metadata": {},
   "outputs": [
    {
     "data": {
      "text/plain": [
       "array([0., 0., 0., 0., 0., 0., 0., 0., 0., 0., 0., 0., 0., 0., 0., 0., 0.,\n",
       "       0., 0., 0., 0., 0., 0., 0., 0., 0., 0., 0., 0., 0., 0., 0., 0., 0.,\n",
       "       0., 0., 0., 0., 0., 0., 0., 0., 0., 0., 0., 0., 0., 0., 0., 0., 0.,\n",
       "       0., 0., 0., 0., 0., 0., 0., 0., 0., 0., 0., 0., 0., 0., 0., 0., 0.,\n",
       "       0., 0., 0., 0., 0., 0., 0., 0., 0., 0., 0., 0., 0., 0., 0., 0., 0.,\n",
       "       0., 0., 0., 0., 0., 0., 0., 0., 0., 0., 0., 0., 0., 0., 0., 0., 0.,\n",
       "       0., 0., 0., 0., 0., 0., 0., 0., 0., 0., 0., 0., 0., 0., 0., 0., 0.,\n",
       "       0., 0., 0., 0., 0., 0., 0., 0., 0., 0., 0., 0., 0., 0., 0., 0., 0.,\n",
       "       0., 0., 0., 0., 0., 0., 0., 0., 0., 0., 0., 0., 0., 0., 0., 0., 0.,\n",
       "       0., 0., 0., 0., 0., 0., 0., 0., 0., 0., 0., 0., 0., 0., 0., 0., 0.,\n",
       "       0., 0., 0., 0., 0., 0., 0., 0., 0., 0., 0., 0., 0., 0., 0., 0., 0.,\n",
       "       0., 0., 0., 0., 0., 0., 0., 0., 0., 0., 0., 0., 0., 0., 0., 0., 0.,\n",
       "       0., 0., 0., 0., 0., 0., 0., 0., 0., 0., 0., 0., 0., 0., 0., 0., 0.,\n",
       "       0., 0., 0., 0., 0., 0., 0., 0., 0., 0., 0., 0., 0., 0., 0., 0., 0.,\n",
       "       0., 0., 0., 0., 0., 0., 0., 0., 0., 0., 0., 0., 0., 0., 0., 0., 0.,\n",
       "       0., 0., 0., 0., 0., 0., 0., 0., 0., 0., 0., 0., 0., 0., 0., 0., 0.,\n",
       "       0., 0., 0., 0., 0., 0., 0., 0., 0., 0., 0., 0., 0., 0., 0., 0., 0.,\n",
       "       0., 0., 0., 0., 0., 0., 0., 0., 0., 0., 0., 0., 0., 0., 0., 0., 0.,\n",
       "       0., 0., 0., 0., 0., 0., 0., 0., 0., 0., 0., 0., 0., 0.])"
      ]
     },
     "execution_count": 20,
     "metadata": {},
     "output_type": "execute_result"
    }
   ],
   "source": [
    "rt_arr = np.zeros(n_trials)\n",
    "rt_arr"
   ]
  },
  {
   "cell_type": "code",
   "execution_count": 21,
   "id": "c34de33a",
   "metadata": {},
   "outputs": [
    {
     "data": {
      "text/plain": [
       "array([2000., 1000., 2500., 1500., 1500.])"
      ]
     },
     "execution_count": 21,
     "metadata": {},
     "output_type": "execute_result"
    }
   ],
   "source": [
    "rt_arr = np.zeros(n_trials)\n",
    "isi_arr = np.zeros(n_trials)\n",
    "for i in range(n_trials):\n",
    "    line = lines[i]\n",
    "    parts = line.split(',')\n",
    "    rt_arr[i] = float(parts[1])\n",
    "    isi_arr[i] = float(parts[2])\n",
    "isi_arr[:5]"
   ]
  },
  {
   "cell_type": "markdown",
   "id": "d74d9daf",
   "metadata": {},
   "source": [
    "This is a fairly typical use of `np.zeros`.  We make an array of the right size and then fill in the elements later."
   ]
  },
  {
   "cell_type": "markdown",
   "id": "c78a6cc7",
   "metadata": {},
   "source": [
    "## Our task\n",
    "\n",
    "We want to calculate the relationship between the onsets of the trials, the onsets of the responses, and the onsets of the scans in the scanner.\n",
    "\n",
    "As you saw above, the inter-stimulus interval is the interval between the\n",
    "previous trial and the current one.\n",
    "\n",
    "For example, the first ISI here, 2000, means that the first trial started at 2000ms from the start of the experiment.\n",
    "\n",
    "The second ISI, 1000, means that the second trial started at 2000ms + 1000ms from the start of the experiment.\n",
    "\n",
    "We want to work out how these stimulus times relate to the scanning we did.\n",
    "\n",
    "Let's think first about the trial onset times, in terms of scans.\n",
    "\n",
    "The first thing we need to know is that the experimental software started 4 seconds after the start of the first scan.\n",
    "\n",
    "We know from the first ISI above that the first trial happened 2000ms after the experimental software started.   That means that it happened 4000 + 2000 milliseconds after the scanner started.\n",
    "\n",
    "The second then we need to know is that the TR (time-to-repeat) for the scanner was 2 seconds.  So, the first scan happens at time 0, the second at time 2000ms, and so on.\n"
   ]
  },
  {
   "cell_type": "markdown",
   "id": "b2756f8a",
   "metadata": {},
   "source": [
    "## Baby steps\n",
    "\n",
    "Let's proceed in steps.  First let us work out the time for each trial *from\n",
    "the start of the experimental software*.   Call this the `cumulative_times`."
   ]
  },
  {
   "cell_type": "markdown",
   "id": "d1d40c6a",
   "metadata": {},
   "source": [
    "Because we are careful, we first work out what that would look like if we did it by hand.   Here are the first five ISI values."
   ]
  },
  {
   "cell_type": "code",
   "execution_count": 22,
   "id": "6922cfe4",
   "metadata": {},
   "outputs": [
    {
     "data": {
      "text/plain": [
       "array([2000., 1000., 2500., 1500., 1500.])"
      ]
     },
     "execution_count": 22,
     "metadata": {},
     "output_type": "execute_result"
    }
   ],
   "source": [
    "isi_arr[:5]"
   ]
  },
  {
   "cell_type": "markdown",
   "id": "189ac78f",
   "metadata": {},
   "source": [
    "The first value for `cumulative_times` should be 2000.  The second will be 2000 + 1000.  The third will be 2000 + 1000 + 2500."
   ]
  },
  {
   "cell_type": "code",
   "execution_count": 23,
   "id": "c2bf9105",
   "metadata": {},
   "outputs": [
    {
     "data": {
      "text/plain": [
       "[2000, 3000, 5500, 7000]"
      ]
     },
     "execution_count": 23,
     "metadata": {},
     "output_type": "execute_result"
    }
   ],
   "source": [
    "[2000, 2000 + 1000, 2000 + 1000 + 2500, 2000 + 1000 + 2500 + 1500]"
   ]
  },
  {
   "cell_type": "markdown",
   "id": "55183502",
   "metadata": {},
   "source": [
    "We could do the calculation for every trial with a `for` loop, like this:"
   ]
  },
  {
   "cell_type": "code",
   "execution_count": 24,
   "id": "81db4bf2",
   "metadata": {},
   "outputs": [
    {
     "data": {
      "text/plain": [
       "array([ 2000.,  3000.,  5500.,  7000.,  8500., 10500., 13000., 14500.,\n",
       "       16500., 17500.])"
      ]
     },
     "execution_count": 24,
     "metadata": {},
     "output_type": "execute_result"
    }
   ],
   "source": [
    "cumulative_times = np.zeros(n_trials)\n",
    "start_time = 0\n",
    "for i in range(0, n_trials):\n",
    "    start_time = start_time + isi_arr[i]\n",
    "    cumulative_times[i] = start_time\n",
    "# Show the first 10 values\n",
    "cumulative_times[:10]"
   ]
  },
  {
   "cell_type": "markdown",
   "id": "0faec8fe",
   "metadata": {},
   "source": [
    "That calculation looks right, comparing to our by-hand calculation above.\n",
    "\n",
    "Luckily, Numpy has a useful function called `np.cumsum` that does the cumulative sum of the elements in the array.  As you can see, this does exactly what we want here:"
   ]
  },
  {
   "cell_type": "code",
   "execution_count": 25,
   "id": "4a36a36e",
   "metadata": {},
   "outputs": [
    {
     "data": {
      "text/plain": [
       "array([ 2000.,  3000.,  5500.,  7000.,  8500., 10500., 13000., 14500.,\n",
       "       16500., 17500.])"
      ]
     },
     "execution_count": 25,
     "metadata": {},
     "output_type": "execute_result"
    }
   ],
   "source": [
    "# Show the cumulative sum\n",
    "cumulative_times = np.cumsum(isi_arr)\n",
    "# Show the first 10 values\n",
    "cumulative_times[:10]"
   ]
  },
  {
   "cell_type": "markdown",
   "id": "066f00f4",
   "metadata": {},
   "source": [
    "Next we need to make these experiment time into times in terms of the scanner start.  To do this, we need to add 4000 to every time.   Of course we could go through and do that with a For loop:"
   ]
  },
  {
   "cell_type": "code",
   "execution_count": 26,
   "id": "938508a1",
   "metadata": {},
   "outputs": [
    {
     "data": {
      "text/plain": [
       "array([ 6000.,  7000.,  9500., 11000., 12500., 14500., 17000., 18500.,\n",
       "       20500., 21500.])"
      ]
     },
     "execution_count": 26,
     "metadata": {},
     "output_type": "execute_result"
    }
   ],
   "source": [
    "scanner_times = np.zeros(n_trials)\n",
    "for i in range(n_trials):\n",
    "    scanner_times[i] = cumulative_times[i] + 4000\n",
    "scanner_times[:10]"
   ]
  },
  {
   "cell_type": "markdown",
   "id": "b80ec7ac",
   "metadata": {},
   "source": [
    "Luckily, however, Numpy will do that for us, because when we add a single number to an array, it has the effect of adding that number to *every element* in the array:"
   ]
  },
  {
   "cell_type": "code",
   "execution_count": 27,
   "id": "ed828350",
   "metadata": {},
   "outputs": [
    {
     "data": {
      "text/plain": [
       "array([ 6000.,  7000.,  9500., 11000., 12500., 14500., 17000., 18500.,\n",
       "       20500., 21500.])"
      ]
     },
     "execution_count": 27,
     "metadata": {},
     "output_type": "execute_result"
    }
   ],
   "source": [
    "scanner_times = cumulative_times + 4000\n",
    "scanner_times[:10]"
   ]
  },
  {
   "cell_type": "markdown",
   "id": "52cf4167",
   "metadata": {},
   "source": [
    "We now have trial onset times in milliseconds, from the start of the first scan.  We want to recode these numbers in terms of scans since the scanner session started.\n",
    "\n",
    "For example, the first time is 6000 ms.  The scans each last 2000 ms.  So, in terms of scans, the first time is:"
   ]
  },
  {
   "cell_type": "code",
   "execution_count": 28,
   "id": "fe9a737b",
   "metadata": {},
   "outputs": [
    {
     "data": {
      "text/plain": [
       "3.0"
      ]
     },
     "execution_count": 28,
     "metadata": {},
     "output_type": "execute_result"
    }
   ],
   "source": [
    "scan_length_ms = 2000\n",
    "6000 / scan_length_ms"
   ]
  },
  {
   "cell_type": "markdown",
   "id": "7bab222f",
   "metadata": {},
   "source": [
    "Luckily — Numpy does division in the same way as it does addition, with a single number against an array:"
   ]
  },
  {
   "cell_type": "code",
   "execution_count": 29,
   "id": "0450f607",
   "metadata": {},
   "outputs": [
    {
     "data": {
      "text/plain": [
       "array([ 3.  ,  3.5 ,  4.75,  5.5 ,  6.25,  7.25,  8.5 ,  9.25, 10.25,\n",
       "       10.75])"
      ]
     },
     "execution_count": 29,
     "metadata": {},
     "output_type": "execute_result"
    }
   ],
   "source": [
    "times_in_scans = scanner_times / scan_length_ms\n",
    "times_in_scans[:10]"
   ]
  },
  {
   "cell_type": "markdown",
   "id": "e38f0d96",
   "metadata": {},
   "source": [
    "## Trial times, and selecting values.\n",
    "\n",
    "OK — we have the stimulus onset times, but what about the times for the *responses*.\n",
    "\n",
    "Here are the first 15 reaction times:"
   ]
  },
  {
   "cell_type": "code",
   "execution_count": 39,
   "id": "874df248",
   "metadata": {},
   "outputs": [
    {
     "data": {
      "text/plain": [
       "array([  0.,   0.,   0.,   0.,   0.,   0.,   0.,   0.,   0.,   0., 427.,\n",
       "         0.,   0., 369.,   0.])"
      ]
     },
     "execution_count": 39,
     "metadata": {},
     "output_type": "execute_result"
    }
   ],
   "source": [
    "rt_arr[:15]"
   ]
  },
  {
   "cell_type": "markdown",
   "id": "cab517fa",
   "metadata": {},
   "source": [
    "Notice that there is a reaction time of 0 when there was no response.  We'll ignore that for now.\n",
    "\n",
    "Now we want to calculate the response times in terms of the start of the scanner.  We have the times of the trials onsets in terms of the scanner:"
   ]
  },
  {
   "cell_type": "code",
   "execution_count": 40,
   "id": "c9c4302e",
   "metadata": {},
   "outputs": [
    {
     "data": {
      "text/plain": [
       "array([ 6000.,  7000.,  9500., 11000., 12500., 14500., 17000., 18500.,\n",
       "       20500., 21500., 22500., 24000., 25500., 27500., 29000.])"
      ]
     },
     "execution_count": 40,
     "metadata": {},
     "output_type": "execute_result"
    }
   ],
   "source": [
    "scanner_times[:15]"
   ]
  },
  {
   "cell_type": "markdown",
   "id": "6654fc72",
   "metadata": {},
   "source": [
    "The response onset times, in terms of the scanner start, are just the trial onset times, plus the corresponding reaction times.  Of course we could do this with a `for` loop, like this:"
   ]
  },
  {
   "cell_type": "code",
   "execution_count": 41,
   "id": "3ec18b96",
   "metadata": {},
   "outputs": [
    {
     "data": {
      "text/plain": [
       "array([ 6000.,  7000.,  9500., 11000., 12500., 14500., 17000., 18500.,\n",
       "       20500., 21500., 22927., 24000., 25500., 27869., 29000.])"
      ]
     },
     "execution_count": 41,
     "metadata": {},
     "output_type": "execute_result"
    }
   ],
   "source": [
    "scanner_rts = np.zeros(n_trials)\n",
    "for i in range(n_trials):\n",
    "    trial_onset = scanner_times[i]\n",
    "    this_rt = rt_arr[i]\n",
    "    scanner_rts[i] = trial_onset + this_rt\n",
    "scanner_rts[:15]"
   ]
  },
  {
   "cell_type": "markdown",
   "id": "90602463",
   "metadata": {},
   "source": [
    "Luckily though, Numpy knows what to do when we add two arrays with the same shape.  It takes each element in the first array and adds the corresponding element in the second array - just like the `for` loop above.\n",
    "\n",
    "This is call *elementwise* addition, because it does the addition (or subtraction or division ...) *element* by *element*."
   ]
  },
  {
   "cell_type": "code",
   "execution_count": 43,
   "id": "148a4bed",
   "metadata": {},
   "outputs": [
    {
     "data": {
      "text/plain": [
       "array([ 6000.,  7000.,  9500., 11000., 12500., 14500., 17000., 18500.,\n",
       "       20500., 21500., 22927., 24000., 25500., 27869., 29000.])"
      ]
     },
     "execution_count": 43,
     "metadata": {},
     "output_type": "execute_result"
    }
   ],
   "source": [
    "# Same result from adding the two arrays with the same shape.\n",
    "scanner_rts = scanner_times + rt_arr\n",
    "scanner_rts[:15]"
   ]
  },
  {
   "cell_type": "markdown",
   "id": "215bd3b7",
   "metadata": {},
   "source": [
    "## Selecting with Boolean arrays"
   ]
  },
  {
   "cell_type": "markdown",
   "id": "8638c53e",
   "metadata": {},
   "source": [
    "We will soon cover this in a lot more detail; this is just a taster.\n",
    "\n",
    "Remember that the trials with no response have a reaction time of zero.\n",
    "\n",
    "That means that all the trials with a reaction time of zero will not give sensible times for a response onset - because, for those trials, there was no response.\n",
    "\n",
    "We can select the `scanner_rts` corresponding to non-zero reaction times using Boolean arrays.\n",
    "\n"
   ]
  },
  {
   "cell_type": "markdown",
   "id": "ed3acd48",
   "metadata": {},
   "source": [
    "## 2D arrays\n",
    "\n",
    "We can also have arrays with more than one dimension.  For example, we can make our original trial and reaction times into a two-dimensional array, like this:"
   ]
  },
  {
   "cell_type": "code",
   "execution_count": 31,
   "id": "df224df4",
   "metadata": {},
   "outputs": [
    {
     "data": {
      "text/plain": [
       "(320, 2)"
      ]
     },
     "execution_count": 31,
     "metadata": {},
     "output_type": "execute_result"
    }
   ],
   "source": [
    "all_times = np.zeros((n_trials, 2))\n",
    "all_times.shape"
   ]
  },
  {
   "cell_type": "code",
   "execution_count": 32,
   "id": "3619a153",
   "metadata": {},
   "outputs": [
    {
     "data": {
      "text/plain": [
       "array([[2000.,    0.],\n",
       "       [1000.,    0.],\n",
       "       [2500.,    0.],\n",
       "       [1500.,    0.],\n",
       "       [1500.,    0.]])"
      ]
     },
     "execution_count": 32,
     "metadata": {},
     "output_type": "execute_result"
    }
   ],
   "source": [
    "# Fill all of the rows, first column with the isi_arr values.\n",
    "all_times[:, 0] = isi_arr\n",
    "# Fill all of the rows, second column with the rt_arr values.\n",
    "all_times[:, 1] = rt_arr\n",
    "# Show the first 5 rows, and all columns.\n",
    "all_times[:5, :]"
   ]
  },
  {
   "cell_type": "markdown",
   "id": "7b62660e",
   "metadata": {},
   "source": [
    "## Reshaping"
   ]
  },
  {
   "cell_type": "markdown",
   "id": "7974c0ba",
   "metadata": {},
   "source": [
    "Finally, we often want to change the *shape* of arrays.\n",
    "\n",
    "One common thing we may want to do is to take a 2D array and flatten it out into a 1D array, or visa versa.  That does not make much sense in this particular case, but bear with us."
   ]
  },
  {
   "cell_type": "markdown",
   "id": "869e17a3",
   "metadata": {},
   "source": [
    "Remember, the original 2D shape was:"
   ]
  },
  {
   "cell_type": "code",
   "execution_count": 37,
   "id": "ee1aa519",
   "metadata": {},
   "outputs": [
    {
     "data": {
      "text/plain": [
       "(320, 2)"
      ]
     },
     "execution_count": 37,
     "metadata": {},
     "output_type": "execute_result"
    }
   ],
   "source": [
    "all_times.shape"
   ]
  },
  {
   "cell_type": "markdown",
   "id": "e7e7c411",
   "metadata": {},
   "source": [
    "Now we want to *flatten* this 2D thing into a 1D thing.   The new shape we want is therefore:"
   ]
  },
  {
   "cell_type": "code",
   "execution_count": 38,
   "id": "22b56fe0",
   "metadata": {},
   "outputs": [
    {
     "data": {
      "text/plain": [
       "[640]"
      ]
     },
     "execution_count": 38,
     "metadata": {},
     "output_type": "execute_result"
    }
   ],
   "source": [
    "new_shape = [n_trials * 2]\n",
    "new_shape"
   ]
  },
  {
   "cell_type": "markdown",
   "id": "deddbac6",
   "metadata": {},
   "source": [
    "We pass the new shape to the `np.reshape` function, along with the array:"
   ]
  },
  {
   "cell_type": "code",
   "execution_count": 33,
   "id": "93482459",
   "metadata": {},
   "outputs": [
    {
     "data": {
      "text/plain": [
       "(640,)"
      ]
     },
     "execution_count": 33,
     "metadata": {},
     "output_type": "execute_result"
    }
   ],
   "source": [
    "flattened = np.reshape(all_times, [n_trials * 2])\n",
    "flattened.shape"
   ]
  },
  {
   "cell_type": "code",
   "execution_count": 34,
   "id": "d51e85eb",
   "metadata": {},
   "outputs": [
    {
     "data": {
      "text/plain": [
       "array([2000.,    0., 1000.,    0., 2500.,    0., 1500.,    0., 1500.,\n",
       "          0.])"
      ]
     },
     "execution_count": 34,
     "metadata": {},
     "output_type": "execute_result"
    }
   ],
   "source": [
    "# The first 10 values.\n",
    "flattened[:10]"
   ]
  },
  {
   "cell_type": "markdown",
   "id": "8b5e7bc1",
   "metadata": {},
   "source": [
    "Here we take the flattened array, and put it back into its original two dimensions:"
   ]
  },
  {
   "cell_type": "code",
   "execution_count": 35,
   "id": "5973cd2e",
   "metadata": {},
   "outputs": [
    {
     "data": {
      "text/plain": [
       "(320, 2)"
      ]
     },
     "execution_count": 35,
     "metadata": {},
     "output_type": "execute_result"
    }
   ],
   "source": [
    "unflattened = np.reshape(flattened, [n_trials, 2])\n",
    "unflattened.shape"
   ]
  },
  {
   "cell_type": "code",
   "execution_count": 36,
   "id": "28c74272",
   "metadata": {
    "lines_to_next_cell": 0
   },
   "outputs": [
    {
     "data": {
      "text/plain": [
       "array([[2000.,    0.],\n",
       "       [1000.,    0.],\n",
       "       [2500.,    0.],\n",
       "       [1500.,    0.],\n",
       "       [1500.,    0.]])"
      ]
     },
     "execution_count": 36,
     "metadata": {},
     "output_type": "execute_result"
    }
   ],
   "source": [
    "# Show the first five rows.\n",
    "unflattened[:5, :]"
   ]
  }
 ],
 "metadata": {
  "jupytext": {
   "notebook_metadata_filter": "all,-language_info",
   "split_at_heading": true
  },
  "kernelspec": {
   "display_name": "Python 3",
   "language": "python",
   "name": "python3"
  },
  "language_info": {
   "codemirror_mode": {
    "name": "ipython",
    "version": 3
   },
   "file_extension": ".py",
   "mimetype": "text/x-python",
   "name": "python",
   "nbconvert_exporter": "python",
   "pygments_lexer": "ipython3",
   "version": "3.8.13"
  }
 },
 "nbformat": 4,
 "nbformat_minor": 5
}
